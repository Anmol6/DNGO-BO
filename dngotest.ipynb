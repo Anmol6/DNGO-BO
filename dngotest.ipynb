{
 "cells": [
  {
   "cell_type": "code",
   "execution_count": 10,
   "metadata": {
    "collapsed": false
   },
   "outputs": [],
   "source": [
    "%matplotlib inline\n",
    "\n",
    "import matplotlib\n",
    "import numpy as np\n",
    "import matplotlib.pyplot as plt\n",
    "\n",
    "import tensorflow as tf\n"
   ]
  },
  {
   "cell_type": "code",
   "execution_count": 11,
   "metadata": {
    "collapsed": false
   },
   "outputs": [],
   "source": [
    "'''\n",
    "3 layer nnet\n",
    "\n",
    "'''\n",
    "\n",
    "def model():\n",
    "    \n",
    "    dim_input = 1\n",
    "    n_hidden1 = 10\n",
    "    n_hidden2 = 35\n",
    "    n_hidden3 = 30\n",
    "    dim_output = 1\n",
    "    \n",
    "    x_in = tf.placeholder(tf.float32, shape = [None,1])\n",
    "    \n",
    "    w1 = tf.Variable(tf.truncated_normal([dim_input,n_hidden1]))\n",
    "    b1 = tf.Variable(tf.zeros([n_hidden1]))\n",
    "    l1 = tf.nn.sigmoid(tf.matmul(x_in,w1) + b1)\n",
    "    \n",
    "    w2 = tf.Variable(tf.truncated_normal([n_hidden1,n_hidden2]))\n",
    "    b2 = tf.Variable(tf.zeros([n_hidden2]))\n",
    "    l2 = tf.nn.sigmoid(tf.matmul(l1,w2) + b2)\n",
    "    \n",
    "    w3 = tf.Variable(tf.truncated_normal([n_hidden2,n_hidden3]))\n",
    "    b3 = tf.Variable(tf.zeros([n_hidden3]))\n",
    "    l3 = tf.nn.sigmoid(tf.matmul(l2,w3) + b3)\n",
    "    \n",
    "    w4 = tf.Variable(tf.truncated_normal([n_hidden3,dim_output]))\n",
    "    b4 = tf.Variable(tf.zeros([dim_output]))\n",
    "    y_pred = tf.matmul(l3,w4) \n",
    "    \n",
    "  \n",
    "    basis = l3\n",
    "    params = w4\n",
    "    \n",
    "    return x_in, y_pred, l3\n",
    "    \n",
    "    \n",
    "def train(x, out, x_train,y_train, n_epochs, sess):\n",
    "    Y_train = tf.placeholder(tf.float32, shape=[None,1])\n",
    "    \n",
    "    MSEloss = tf.reduce_mean(tf.square(Y_train-out))\n",
    "    train = tf.train.AdamOptimizer().minimize(MSEloss)\n",
    "    init_op = tf.initialize_all_variables()\n",
    "    sess.run(init_op)\n",
    "    \n",
    "    for i in range(n_epochs):        \n",
    "        sess.run(train, feed_dict = {x:np.reshape(x_train,(-1,1)), Y_train: np.reshape(y_train,(-1,1))})\n",
    "\n",
    "    \n",
    "    \n",
    "    \n",
    "    "
   ]
  },
  {
   "cell_type": "code",
   "execution_count": 50,
   "metadata": {
    "collapsed": false
   },
   "outputs": [],
   "source": [
    "\n",
    "def objective(x):\n",
    "    y = 2*np.sin(x) + np.cos(x);# + 0.01*np.random.rand();\n",
    "    return y #+ 0.05*np.random.randn(*y.shape)\n",
    "\n",
    "#train data\n",
    "x_train = np.linspace(-5,5,10)\n",
    "np.random.shuffle(x_train)\n",
    "y_train = objective(x_train)\n",
    "\n",
    "x_train = np.reshape(x_train, (-1,1))\n",
    "y_train = np.reshape(y_train, (-1,1))\n",
    "\n",
    "#test data\n",
    "xtest = np.linspace(-8,8,20)\n",
    "ytest = objective(xtest)\n",
    "\n",
    "xtest = np.reshape(xtest,(-1,1))\n",
    "ytest = np.reshape(ytest,(-1,1))\n",
    "\n"
   ]
  },
  {
   "cell_type": "code",
   "execution_count": 51,
   "metadata": {
    "collapsed": false
   },
   "outputs": [
    {
     "data": {
      "text/plain": [
       "<matplotlib.collections.PathCollection at 0x7f1c3c4a9208>"
      ]
     },
     "execution_count": 51,
     "metadata": {},
     "output_type": "execute_result"
    },
    {
     "data": {
      "image/png": "[encoded data removed]",
      "text/plain": [
       "<matplotlib.figure.Figure at 0x7f1c3c7c2400>"
      ]
     },
     "metadata": {},
     "output_type": "display_data"
    }
   ],
   "source": [
    "plt.scatter(x_train,y_train)\n"
   ]
  },
  {
   "cell_type": "code",
   "execution_count": 52,
   "metadata": {
    "collapsed": false
   },
   "outputs": [],
   "source": [
    "class posterior():\n",
    "    #3 pages of math later...\n",
    "    # a = 1/var(data) b = 1/var(params)  \n",
    "    #mu \n",
    "    #dim(map_params) = (1,x_features)\n",
    "    #dim(A) = (numtrain, x_features), dim(xtest) = (x_features, 1), dim(ytrain) = (numtrain,1)\n",
    "    #dim(Av) = (x_features, x_features), dim(lambda_pos)=(1)\n",
    "    \n",
    "    \n",
    "    \n",
    "    \n",
    "    def __init__(self, basis, xplaceholder, xtrain, ytrain,a,b, sess):\n",
    "        #A = sess.run(basis, feed_dict = {})\n",
    "        #make A\n",
    "        \n",
    "        self._a = a\n",
    "        self._b = b\n",
    "        self._sess = sess\n",
    "        self._basis = basis\n",
    "        self._xplaceholder = xplaceholder\n",
    "        iden = tf.Variable(initial_value = np.identity(30))\n",
    "        iden =  tf.cast(iden, tf.float32)\n",
    "\n",
    "        sess.run(tf.initialize_all_variables())\n",
    "        \n",
    "        self._A = sess.run(basis, feed_dict = {xplaceholder:xtrain})  \n",
    "        #self._A2 = sess.run(basis, feed_dict = {xplaceholder:xtrain})  \n",
    "        #tf.print_function(print(self._A))\n",
    "        \n",
    "        self._Av = tf.matrix_inverse(self._a*tf.matmul(tf.transpose(self._A),self._A) + (self._b)*(self._b)*iden)\n",
    "        self._A = tf.cast(self._A, tf.float64)\n",
    "        self._Av = tf.cast(self._Av, tf.float64)\n",
    "        self._map_params = tf.matmul(tf.matmul(self._Av, tf.transpose(self._A)),ytrain)\n",
    "        \n",
    "        \n",
    "        #self._map_params = self._a*tf.matmul(tf.matmul(tf.matrix_inverse(self._Av),tf.transpose(self._A)), ytrain)\n",
    "        #self._map_params = tf.transpose(self._map_params)\n",
    "        #(numfeatures, 1)\n",
    "\n",
    "    def predict(self, xtest):\n",
    "        xtest = self._sess.run(self._basis, feed_dict = {self._xplaceholder:xtest})\n",
    "        xtest = tf.cast(xtest, tf.float64)\n",
    "        s1 = tf.matmul(xtest, self._Av)\n",
    "        self._phiK = tf.matmul(self._Av, tf.transpose(xtest)) #(num dim, num samples)\n",
    "        #lambd_pos =  (1/self._a) + tf.mul(tf.transpose(xtest), self._phiK),0)\n",
    "        lambd_pos =  (1/self._a) + tf.matmul(s1, tf.transpose(xtest))\n",
    "        mu_pos = self._a*tf.matmul(xtest, self._map_params)\n",
    "        \n",
    "        return (lambd_pos.eval(), mu_pos.eval())\n",
    "        \n",
    "        \n",
    "\n",
    "\n",
    "     "
   ]
  },
  {
   "cell_type": "code",
   "execution_count": 53,
   "metadata": {
    "collapsed": false
   },
   "outputs": [],
   "source": [
    "with tf.Session() as sess:\n",
    "    xplace,out, basis = model()\n",
    "    train(xplace,out,x_train,y_train,1000,sess)\n",
    "    aa = sess.run(basis, feed_dict = {xplace:xtest})\n",
    "    bayeslinear = posterior(basis, xplace, x_train, y_train, 8,0.4, sess)\n",
    "    y_hat = bayeslinear.predict(np.reshape(xtest, (-1,1)))"
   ]
  },
  {
   "cell_type": "code",
   "execution_count": 54,
   "metadata": {
    "collapsed": false
   },
   "outputs": [],
   "source": [
    "n = y_hat[0].shape[0]\n",
    "stdv = np.zeros(n)\n",
    "for i in range(n):\n",
    "    stdv[i] = np.sqrt(y_hat[0][i][i])"
   ]
  },
  {
   "cell_type": "code",
   "execution_count": 55,
   "metadata": {
    "collapsed": false
   },
   "outputs": [
    {
     "data": {
      "text/plain": [
       "<matplotlib.collections.PathCollection at 0x7f1c3c072da0>"
      ]
     },
     "execution_count": 55,
     "metadata": {},
     "output_type": "execute_result"
    },
    {
     "data": {
      "image/png": "[encoded data removed]",
      "text/plain": [
       "<matplotlib.figure.Figure at 0x7f1c3c069400>"
      ]
     },
     "metadata": {},
     "output_type": "display_data"
    }
   ],
   "source": [
    "stdv = np.reshape(stdv,(-1,1))\n",
    "mu = y_hat[1]\n",
    "plt.scatter(np.linspace(1,n,n),stdv)"
   ]
  },
  {
   "cell_type": "code",
   "execution_count": 60,
   "metadata": {
    "collapsed": false
   },
   "outputs": [
    {
     "data": {
      "text/plain": [
       "<matplotlib.collections.PathCollection at 0x7f1c3c085cf8>"
      ]
     },
     "execution_count": 60,
     "metadata": {},
     "output_type": "execute_result"
    },
    {
     "data": {
      "image/png": "[encoded data removed]",
      "text/plain": [
       "<matplotlib.figure.Figure at 0x7f1c3c0d0f60>"
      ]
     },
     "metadata": {},
     "output_type": "display_data"
    }
   ],
   "source": [
    "plt.plot(xtest,mu+stdv)\n",
    "plt.plot(xtest,mu-stdv)\n",
    "plt.scatter(xtest,mu)"
   ]
  },
  {
   "cell_type": "code",
   "execution_count": 58,
   "metadata": {
    "collapsed": false
   },
   "outputs": [],
   "source": [
    "from scipy.stats import norm\n",
    "class acq():    \n",
    "    def __init__(self, mode = \"UCG\"):\n",
    "        self._mode = mode\n",
    "        \n",
    "    def EI(self, mu, sd):\n",
    "        minval = np.min(mu)\n",
    "        EI_score = np.zeros(len(mu))\n",
    "        for i in range(len(mu)):\n",
    "            EI_score[i] = mu[i]/2 + norm.cdf(minval, mu[i], sd[i])           \n",
    "        return EI_score\n",
    "    \n",
    "acqu = acq()\n",
    "ei = acqu.EI(mu,stdv)\n",
    "        \n",
    "        \n",
    "        \n",
    "        \n"
   ]
  },
  {
   "cell_type": "code",
   "execution_count": 59,
   "metadata": {
    "collapsed": false
   },
   "outputs": [
    {
     "data": {
      "text/plain": [
       "array([ 0.95855632,  0.83946613,  0.70264965,  0.54403852,  0.3577022 ,\n",
       "        0.13614958, -0.12395162, -0.39291921, -0.51429859, -0.13587345,\n",
       "        0.58393561,  0.7252221 ,  0.33802912, -0.14198096, -0.53869364,\n",
       "       -0.83093189, -1.0027286 , -1.02876136, -0.97655349, -0.91966905])"
      ]
     },
     "execution_count": 59,
     "metadata": {},
     "output_type": "execute_result"
    }
   ],
   "source": [
    "ei"
   ]
  },
  {
   "cell_type": "code",
   "execution_count": 38,
   "metadata": {
    "collapsed": false
   },
   "outputs": [
    {
     "data": {
      "text/plain": [
       "[<matplotlib.lines.Line2D at 0x7f1f47553ef0>]"
      ]
     },
     "execution_count": 38,
     "metadata": {},
     "output_type": "execute_result"
    },
    {
     "data": {
      "image/png": "[encoded data removed]",
      "text/plain": [
       "<matplotlib.figure.Figure at 0x7f1f475a6470>"
      ]
     },
     "metadata": {},
     "output_type": "display_data"
    }
   ],
   "source": []
  },
  {
   "cell_type": "code",
   "execution_count": null,
   "metadata": {
    "collapsed": true
   },
   "outputs": [],
   "source": [
    "np.reshape(xtest,(-1,1))[]"
   ]
  }
 ],
 "metadata": {
  "anaconda-cloud": {},
  "kernelspec": {
   "display_name": "Python [tensorflow]",
   "language": "python",
   "name": "Python [tensorflow]"
  },
  "language_info": {
   "codemirror_mode": {
    "name": "ipython",
    "version": 3
   },
   "file_extension": ".py",
   "mimetype": "text/x-python",
   "name": "python",
   "nbconvert_exporter": "python",
   "pygments_lexer": "ipython3",
   "version": "3.5.2"
  }
 },
 "nbformat": 4,
 "nbformat_minor": 0
}
